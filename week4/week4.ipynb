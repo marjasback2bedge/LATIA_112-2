{
  "nbformat": 4,
  "nbformat_minor": 0,
  "metadata": {
    "colab": {
      "provenance": []
    },
    "kernelspec": {
      "name": "python3",
      "display_name": "Python 3"
    },
    "language_info": {
      "name": "python"
    }
  },
  "cells": [
    {
      "cell_type": "markdown",
      "source": [
        "from google colab import files #匯入套件\n",
        "\n",
        "import pandas as pd\n",
        "\n",
        "upload = files.upload() #開啟上傳介面並載入\n",
        "\n",
        "data = pd.read_csv(\"剛剛上傳的檔案名稱\")"
      ],
      "metadata": {
        "id": "iaUICnvVBX5N"
      }
    },
    {
      "cell_type": "code",
      "execution_count": 1,
      "metadata": {
        "id": "nrJeVAasiBPQ",
        "colab": {
          "base_uri": "https://localhost:8080/"
        },
        "outputId": "d5566bf2-acff-4cd2-aad2-727a539ae7b2"
      },
      "outputs": [
        {
          "output_type": "stream",
          "name": "stdout",
          "text": [
            "Mounted at /content/gdrive/\n",
            "ls: invalid option -- '/'\n",
            "Try 'ls --help' for more information.\n"
          ]
        }
      ],
      "source": [
        "from google.colab import drive\n",
        "drive.mount('/content/gdrive/', force_remount=True)\n",
        "\n",
        "import os\n",
        "os.chdir(\"/content/gdrive/My Drive/\")\n",
        "!ls -l\"/content/gdrive/My Drive/latia/\"\n",
        "#!ls -l \"自行填寫正確的路徑\""
      ]
    },
    {
      "cell_type": "code",
      "source": [
        "import pandas as pd\n",
        "\n",
        "csv_file = './latia/112_student.csv'\n",
        "\n",
        "columns = [\n",
        "   \"學年度\",\"學校代碼\",\"學校名稱\",\"日間∕進修別\",\"等級別\",\"總計\",\"男生計\",\n",
        "   \"女生計\",\"一年級男\",\"一年級女\",\"二年級男\",\"二年級女\",\"三年級男\",\"三年級女\",\n",
        "   \"四年級男\",\"四年級女\",\"五年級男\",\"五年級女\",\"六年級男\",\"六年級女\",\n",
        "   \"七年級男\",\"七年級女\",\"延修生男\",\"延修生女\",\"縣市名稱\",\"體系別\"\n",
        "]\n",
        "\n",
        "df = pd.read_csv(csv_file, encoding='utf-8')\n",
        "\n",
        "#查看前n筆資料, 預設為五\n",
        "print(df.head(3))\n",
        "\n",
        "#查看資料欄位資訊\n",
        "print(df.info(verbose=True, show_counts=True))\n",
        "\n",
        "#查看資料的統計學資訊描述\n",
        "print(df.describe())"
      ],
      "metadata": {
        "id": "hth5CL3clOs2",
        "colab": {
          "base_uri": "https://localhost:8080/"
        },
        "outputId": "a213a74b-a94c-4e38-f7b9-aee3c52595f1"
      },
      "execution_count": 2,
      "outputs": [
        {
          "output_type": "stream",
          "name": "stdout",
          "text": [
            "   學年度  學校代碼    學校名稱 日間∕進修別   等級別    總計   男生計   女生計  一年級男  一年級女  ...  五年級男  \\\n",
            "0  112     1  國立政治大學    D 日  D 博士   921   517   404    86    69  ...    63   \n",
            "1  112     1  國立政治大學    D 日  M 碩士  4231  1835  2396   598   809  ...     2   \n",
            "2  112     1  國立政治大學    N 職  M 碩士  1903   938   965   262   304  ...    77   \n",
            "\n",
            "   五年級女  六年級男  六年級女  七年級男  七年級女  延修生男  延修生女    縣市名稱   體系別  \n",
            "0    52    68    37    66    50     0     0  30 臺北市  1 一般  \n",
            "1     1     1     0     0     0     0     0  30 臺北市  1 一般  \n",
            "2    57     0     0     0     0     0     0  30 臺北市  1 一般  \n",
            "\n",
            "[3 rows x 26 columns]\n",
            "<class 'pandas.core.frame.DataFrame'>\n",
            "RangeIndex: 764 entries, 0 to 763\n",
            "Data columns (total 26 columns):\n",
            " #   Column  Non-Null Count  Dtype \n",
            "---  ------  --------------  ----- \n",
            " 0   學年度     764 non-null    int64 \n",
            " 1   學校代碼    764 non-null    int64 \n",
            " 2   學校名稱    764 non-null    object\n",
            " 3   日間∕進修別  764 non-null    object\n",
            " 4   等級別     764 non-null    object\n",
            " 5   總計      764 non-null    int64 \n",
            " 6   男生計     764 non-null    int64 \n",
            " 7   女生計     764 non-null    int64 \n",
            " 8   一年級男    764 non-null    int64 \n",
            " 9   一年級女    764 non-null    int64 \n",
            " 10  二年級男    764 non-null    int64 \n",
            " 11  二年級女    764 non-null    int64 \n",
            " 12  三年級男    764 non-null    int64 \n",
            " 13  三年級女    764 non-null    int64 \n",
            " 14  四年級男    764 non-null    int64 \n",
            " 15  四年級女    764 non-null    int64 \n",
            " 16  五年級男    764 non-null    int64 \n",
            " 17  五年級女    764 non-null    int64 \n",
            " 18  六年級男    764 non-null    int64 \n",
            " 19  六年級女    764 non-null    int64 \n",
            " 20  七年級男    764 non-null    int64 \n",
            " 21  七年級女    764 non-null    int64 \n",
            " 22  延修生男    764 non-null    int64 \n",
            " 23  延修生女    764 non-null    int64 \n",
            " 24  縣市名稱    764 non-null    object\n",
            " 25  體系別     764 non-null    object\n",
            "dtypes: int64(21), object(5)\n",
            "memory usage: 155.3+ KB\n",
            "None\n",
            "         學年度         學校代碼            總計           男生計           女生計  \\\n",
            "count  764.0   764.000000    764.000000    764.000000    764.000000   \n",
            "mean   112.0   756.200262   1433.022251    708.655759    724.366492   \n",
            "std      0.0   504.152506   2633.932756   1385.170171   1348.848241   \n",
            "min    112.0     1.000000      1.000000      0.000000      0.000000   \n",
            "25%    112.0    48.000000    103.750000     43.750000     50.000000   \n",
            "50%    112.0  1029.000000    373.500000    180.000000    166.000000   \n",
            "75%    112.0  1060.000000   1387.500000    590.500000    718.500000   \n",
            "max    112.0  3002.000000  19466.000000  10885.000000  10716.000000   \n",
            "\n",
            "              一年級男         一年級女         二年級男         二年級女         三年級男  ...  \\\n",
            "count   764.000000   764.000000   764.000000   764.000000   764.000000  ...   \n",
            "mean    177.971204   173.545812   170.302356   166.284031   158.507853  ...   \n",
            "std     349.047086   321.080379   344.369500   315.779672   323.499085  ...   \n",
            "min       0.000000     0.000000     0.000000     0.000000     0.000000  ...   \n",
            "25%       5.000000     4.000000     5.000000     6.000000     6.000000  ...   \n",
            "50%      41.000000    37.000000    36.500000    35.000000    35.500000  ...   \n",
            "75%     161.250000   188.250000   157.000000   174.000000   127.500000  ...   \n",
            "max    2709.000000  2519.000000  2643.000000  2547.000000  2553.000000  ...   \n",
            "\n",
            "              四年級男         四年級女        五年級男        五年級女        六年級男  \\\n",
            "count   764.000000   764.000000  764.000000  764.000000  764.000000   \n",
            "mean    145.589005   161.738220   11.871728   20.469895    4.810209   \n",
            "std     308.939286   324.284355   32.233288   81.117153   19.818557   \n",
            "min       0.000000     0.000000    0.000000    0.000000    0.000000   \n",
            "25%       4.000000     4.000000    0.000000    0.000000    0.000000   \n",
            "50%      28.500000    30.000000    0.000000    0.000000    0.000000   \n",
            "75%     108.500000   141.500000    6.000000    6.000000    0.000000   \n",
            "max    2575.000000  2594.000000  309.000000  897.000000  179.000000   \n",
            "\n",
            "             六年級女        七年級男        七年級女         延修生男         延修生女  \n",
            "count  764.000000  764.000000  764.000000   764.000000   764.000000  \n",
            "mean     3.615183    2.955497    1.742147    36.647906    27.591623  \n",
            "std     13.204157   17.768959    8.937397    98.370926    74.731977  \n",
            "min      0.000000    0.000000    0.000000     0.000000     0.000000  \n",
            "25%      0.000000    0.000000    0.000000     0.000000     0.000000  \n",
            "50%      0.000000    0.000000    0.000000     0.000000     0.000000  \n",
            "75%      0.000000    0.000000    0.000000    21.000000    18.250000  \n",
            "max    125.000000  312.000000  132.000000  1448.000000  1107.000000  \n",
            "\n",
            "[8 rows x 21 columns]\n"
          ]
        }
      ]
    },
    {
      "cell_type": "markdown",
      "source": [
        "## Q1 國立臺灣師範大學有多少學生"
      ],
      "metadata": {
        "id": "OPDWXV4bgeJB"
      }
    },
    {
      "cell_type": "code",
      "source": [
        "ntnu_df = df[df['學校名稱'] == '國立臺灣師範大學']\n",
        "\n",
        "total_students = ntnu_df['總計'].sum()\n",
        "\n",
        "print(f\"國立臺灣師範大學的總學生數量為：{total_students}\")\n"
      ],
      "metadata": {
        "colab": {
          "base_uri": "https://localhost:8080/"
        },
        "id": "dYbwtpRRfz7v",
        "outputId": "d7557270-5671-414f-d656-e684167a7ac3"
      },
      "execution_count": null,
      "outputs": [
        {
          "output_type": "stream",
          "name": "stdout",
          "text": [
            "國立臺灣師範大學的總學生數量為：16496\n"
          ]
        }
      ]
    },
    {
      "cell_type": "markdown",
      "source": [
        "## Q2 臺灣師範大學男女組成"
      ],
      "metadata": {
        "id": "bxGnNiZag3oV"
      }
    },
    {
      "cell_type": "code",
      "source": [
        "total_males = ntnu_df['男生計'].sum()\n",
        "\n",
        "total_females = ntnu_df['女生計'].sum()\n",
        "\n",
        "print(f\"國立臺灣師範大學的男性學生數量為：{total_males}\")\n",
        "\n",
        "print(f\"國立臺灣師範大學的女性學生數量為：{total_females}\")"
      ],
      "metadata": {
        "colab": {
          "base_uri": "https://localhost:8080/"
        },
        "id": "uhc8oxv4hO-o",
        "outputId": "5dfa739f-c067-41b8-e538-47ebf786c856"
      },
      "execution_count": null,
      "outputs": [
        {
          "output_type": "stream",
          "name": "stdout",
          "text": [
            "國立臺灣師範大學的男性學生數量為：7034\n",
            "國立臺灣師範大學的男性學生數量為：9462\n"
          ]
        }
      ]
    },
    {
      "cell_type": "markdown",
      "source": [
        "## Q3 臺灣師範大學各年級組成"
      ],
      "metadata": {
        "id": "Gndc4HttiMho"
      }
    },
    {
      "cell_type": "code",
      "source": [
        "ntnu_phd_df = ntnu_df[ntnu_df['等級別'] == 'D 博士']\n",
        "print(f\"國立臺灣師範大學的博士生數量為：{ntnu_phd_df['總計'].sum()}\")\n",
        "ntnu_ms_df = ntnu_df[ntnu_df['等級別'] == 'M 碩士']\n",
        "print(f\"國立臺灣師範大學的碩士生數量為：{ntnu_ms_df['總計'].sum()}\")\n",
        "ntnu_bs_df = ntnu_df[ntnu_df['等級別'] == 'B 學士']\n",
        "print(f\"國立臺灣師範大學的學士生數量為：{ntnu_bs_df['總計'].sum()}\")\n"
      ],
      "metadata": {
        "colab": {
          "base_uri": "https://localhost:8080/"
        },
        "id": "f8xyT4z6iMEt",
        "outputId": "bbf4cdc7-9abe-4120-a221-1f0a85b92065"
      },
      "execution_count": null,
      "outputs": [
        {
          "output_type": "stream",
          "name": "stdout",
          "text": [
            "國立臺灣師範大學的博士生數量為：1337\n",
            "國立臺灣師範大學的碩士生數量為：6656\n",
            "國立臺灣師範大學的學士生數量為：8503\n"
          ]
        }
      ]
    },
    {
      "cell_type": "markdown",
      "source": [
        "# 1.哪間大專院校有最多的學士生\n",
        "\n",
        "step1: 取出想要查看的欄位，並印出此資料集共有多少筆紀錄 (len)\n",
        "\n",
        "step2: 篩選等級別為\"B 學士\"的DataFrame，並印出有招生學士學制的學校數量\n",
        "\n",
        "step3: 依據\"總計\"從大到小排序並印出結果 (sort_values, by, ascending)"
      ],
      "metadata": {
        "id": "bX5p1tgOSu1i"
      }
    },
    {
      "cell_type": "code",
      "source": [
        "# df1 = df[['等級別']] # 取出想要觀看的欄位\n",
        "# print(\"本資料集共有\", len(df1), \"筆紀錄\")\n",
        "\n",
        "df1 = df[df['等級別'] == 'B 學士']\n",
        "df1\n",
        "print(\"有招生學士學制的學校數量為\",len(df1), \"間\\n\")\n",
        "df1_sorted = df1.sort_values(by = '總計', ascending = False)\n",
        "# df1_sorted\n",
        "print(\"112學年度在籍的學士生最多人數之學校為\", df1_sorted.head(1)['學校名稱'].values, \"一共有\", df1_sorted.head(1)['總計'].values ,\"人\")"
      ],
      "metadata": {
        "id": "D9AfvfU-Szu7",
        "colab": {
          "base_uri": "https://localhost:8080/"
        },
        "outputId": "1d5ad0bc-5881-4cd5-da09-37b077c9d527"
      },
      "execution_count": null,
      "outputs": [
        {
          "output_type": "stream",
          "name": "stdout",
          "text": [
            "有招生學士學制的學校數量為 97 間\n",
            "\n",
            "112學年度在籍的學士生最多人數之學校為 ['淡江大學'] 一共有 [19466] 人\n"
          ]
        }
      ]
    },
    {
      "cell_type": "markdown",
      "source": [
        "# Q1_1 算上夜間部的話，哪間有最多的學士生？"
      ],
      "metadata": {
        "id": "RaII2Zcd3EXK"
      }
    },
    {
      "cell_type": "code",
      "source": [
        "# Filter for bachelor's degree\n",
        "bachelors_data = df[df['等級別'] == 'B 學士']\n",
        "\n",
        "# Sum the total number of students for each university\n",
        "university_totals = bachelors_data.groupby('學校名稱')['總計'].sum()\n",
        "\n",
        "# Find the top university by sorting\n",
        "top_bachelors_university = university_totals.sort_values(ascending=False).head(1)\n",
        "\n",
        "# top_bachelors_university\n",
        "print(\"算上夜間部學士的話是\", top_bachelors_university.index[0], \"共有\", top_bachelors_university.values[0], \"人\")\n"
      ],
      "metadata": {
        "colab": {
          "base_uri": "https://localhost:8080/"
        },
        "id": "e-2_gyo8mSCs",
        "outputId": "434d03dd-a0a1-43cc-bbbb-ebc655a81eeb"
      },
      "execution_count": null,
      "outputs": [
        {
          "output_type": "stream",
          "name": "stdout",
          "text": [
            "算上夜間部學士的話是 輔仁大學 共有 21725 人\n"
          ]
        }
      ]
    },
    {
      "cell_type": "markdown",
      "source": [
        "# 2. 國立？所；私立？所\n",
        "step1: 建立空字串 (lsit=[])\n",
        "\n",
        "step2: 建立for迴圈，配合if else條件，取出國立與私立\n",
        "\n",
        "step3: 新增「公私立」column在DataFrame中 (df['公私立'])\n",
        "\n",
        "step4: 篩選掉重複的學校代碼資料 (drop_duplicates)\n",
        "\n",
        "step5: 計算公立與私立學校的筆數，並印出結果 (value_counts)"
      ],
      "metadata": {
        "id": "IzqRi2WyRZFh"
      }
    },
    {
      "cell_type": "code",
      "source": [
        "# 建立空字串\n",
        "# 使用for in迴圈，配合if else條件，取出xx與yy並放入新的空字串中\n",
        "# df[\"空字串的欄位名稱\"] = 新的\"空字串變數\" 目的是在DataFrame尾巴處新增一個欄位\n",
        "# drop_duplicates('xxxx') 篩選掉重複的xxxx資料\n",
        "# value_counts(xxxx) 計算xxxx的筆數\n",
        "\n",
        "type_list = []\n",
        "\n",
        "for i in df['學校名稱']:\n",
        "    if ('國立' in i) or ('市立' in i):\n",
        "        type_list.append('國立')\n",
        "    else:\n",
        "        type_list.append('私立')\n",
        "\n",
        "df['公私立'] = type_list # 將 Dataframe 新增「公私立」column\n",
        "\n",
        "df2 = df.drop_duplicates('學校代碼')\n",
        "count = df2['公私立'].value_counts()\n",
        "\n",
        "# print(df2)\n",
        "print(f\"本資料集共收集了 {len(df2)} 所學校，其中公立：{count['國立']} 所；私立：{count['私立']} 所。\")"
      ],
      "metadata": {
        "colab": {
          "base_uri": "https://localhost:8080/"
        },
        "id": "6XXmjati44Ja",
        "outputId": "64d5ca0f-bd90-4ab2-af4c-bbb9f984d819"
      },
      "execution_count": 44,
      "outputs": [
        {
          "output_type": "stream",
          "name": "stdout",
          "text": [
            "本資料集共收集了 145 所學校，其中公立：47 所；私立：98 所。\n"
          ]
        }
      ]
    },
    {
      "cell_type": "markdown",
      "source": [
        "## My solution for Q2"
      ],
      "metadata": {
        "id": "BukQnAxl5TDH"
      }
    },
    {
      "cell_type": "code",
      "source": [
        "data = pd.read_csv(csv_file, encoding='utf-8')\n",
        "# Use the 'apply' method to classify each university as public or private based on its name\n",
        "data['公私立'] = data['學校名稱'].apply(lambda x: '公立' if '國立' in x or '市立' in x else '私立')\n",
        "\n",
        "# Count the number of unique public and private universities\n",
        "public_universities_count = data[data['公私立'] == '公立']['學校名稱'].nunique()\n",
        "private_universities_count = data[data['公私立'] == '私立']['學校名稱'].nunique()\n",
        "\n",
        "print(f\"共蒐集 {public_universities_count+private_universities_count} 所學校\")\n",
        "print(f\"公立大學共有: {public_universities_count} 間\")\n",
        "print(f\"私立大學共有: {private_universities_count} 間\")\n"
      ],
      "metadata": {
        "colab": {
          "base_uri": "https://localhost:8080/"
        },
        "id": "yTGB8esj3SWh",
        "outputId": "5aef49d8-fef7-4380-f6bd-a095a29cc53f"
      },
      "execution_count": null,
      "outputs": [
        {
          "output_type": "stream",
          "name": "stdout",
          "text": [
            "共蒐集 145 所學校\n",
            "公立大學共有: 47 間\n",
            "私立大學共有: 98 間\n"
          ]
        }
      ]
    },
    {
      "cell_type": "markdown",
      "source": [
        "# 3. 各等級別學制共有？所\n",
        "\n",
        "step1: 篩選掉重複的學校名稱與等級別 (drop_duplicates, subset)\n",
        "\n",
        "step2: 計算出等級別的筆數 (value_counts)\n",
        "\n",
        "step3: 建立等級別的字串，並找出其類別 (unique)\n",
        "\n",
        "step4: 使用for迴圈，依序列出所有等級別學制的學校數量 (count)"
      ],
      "metadata": {
        "id": "hkd8LX0v6MAV"
      }
    },
    {
      "cell_type": "code",
      "source": [
        "# drop_duplicates(subset=['xxxx']) 篩選掉重複的xxxx資料(2種以上)\n",
        "# value_counts(xxxx) 計算xxxx的筆數\n",
        "# 使用for in迴圈，依序列出所有xxxx的數量(count[]), 並顯示xxxx[2:]從第2個字元到結束的所有字元\n",
        "\n",
        "df3 = df.drop_duplicates(subset=['學校名稱', '等級別'])\n",
        "count = df3['等級別'].value_counts()\n",
        "# print(count)\n",
        "degree_list = list(df['等級別'].unique())\n",
        "# print((degree_list))\n",
        "print(f\"本資料集總共收集了 {len(set(df['學校代碼']))} 所學校，各等級學制當中：\")\n",
        "for degree in degree_list:\n",
        "    print(f\"一共有{count[degree]} 所學校， 有招收{degree[2:]}。\")"
      ],
      "metadata": {
        "colab": {
          "base_uri": "https://localhost:8080/"
        },
        "id": "ZvRm2k1J5Kde",
        "outputId": "46bc49d1-7e3a-46bb-9f1b-1d2513ff3a89"
      },
      "execution_count": null,
      "outputs": [
        {
          "output_type": "stream",
          "name": "stdout",
          "text": [
            "M 碩士     130\n",
            "D 博士      84\n",
            "C 二技      71\n",
            "B 學士      67\n",
            "B 四技      66\n",
            "5 五專      46\n",
            "2 二專      46\n",
            "5 七年       2\n",
            "X 4+X      1\n",
            "C 二年制      1\n",
            "Name: 等級別, dtype: int64\n",
            "['D 博士', 'M 碩士', 'B 學士', 'X 4+X', 'C 二技', 'B 四技', '5 五專', '5 七年', '2 二專', 'C 二年制']\n",
            "本資料集總共收集了 145 所學校，各等級學制當中：\n",
            "一共有84 所學校， 有招收博士。\n",
            "一共有130 所學校， 有招收碩士。\n",
            "一共有67 所學校， 有招收學士。\n",
            "一共有1 所學校， 有招收4+X。\n",
            "一共有71 所學校， 有招收二技。\n",
            "一共有66 所學校， 有招收四技。\n",
            "一共有46 所學校， 有招收五專。\n",
            "一共有2 所學校， 有招收七年。\n",
            "一共有46 所學校， 有招收二專。\n",
            "一共有1 所學校， 有招收二年制。\n"
          ]
        }
      ]
    },
    {
      "cell_type": "markdown",
      "source": [
        "# 4. 各縣市分別有？所，位於新北市的大專院校總共有幾所"
      ],
      "metadata": {
        "id": "wKevo1U1TOn2"
      }
    },
    {
      "cell_type": "code",
      "source": [
        "\n",
        "universities_per_city = df.groupby('縣市名稱')['學校名稱'].nunique()\n",
        "\n",
        "# Find the number of universities in New Taipei City\n",
        "new_taipei_universities_count = universities_per_city.get('01 新北市', 0)\n",
        "\n",
        "# print(universities_per_city.info(verbose=True, show_counts=True))\n",
        "\n",
        "for i in range(len(universities_per_city)):\n",
        "  print(f\"{universities_per_city.index[i][3:]}, 有 {universities_per_city[i]} 所\")\n",
        "print(f\"位於新北市的大專院校總共有: {new_taipei_universities_count} 所\")"
      ],
      "metadata": {
        "id": "n28d3zIK836k",
        "colab": {
          "base_uri": "https://localhost:8080/"
        },
        "outputId": "2748eec2-8479-4a29-fbea-d49c009a7c31"
      },
      "execution_count": 20,
      "outputs": [
        {
          "output_type": "stream",
          "name": "stdout",
          "text": [
            "新北市, 有 20 所\n",
            "宜蘭縣, 有 3 所\n",
            "桃園市, 有 12 所\n",
            "新竹縣, 有 2 所\n",
            "苗栗縣, 有 3 所\n",
            "臺中市, 有 6 所\n",
            "彰化縣, 有 4 所\n",
            "南投縣, 有 2 所\n",
            "雲林縣, 有 3 所\n",
            "嘉義縣, 有 4 所\n",
            "臺南市, 有 9 所\n",
            "高雄市, 有 7 所\n",
            "屏東縣, 有 5 所\n",
            "臺東縣, 有 2 所\n",
            "花蓮縣, 有 4 所\n",
            "澎湖縣, 有 1 所\n",
            "基隆市, 有 3 所\n",
            "新竹市, 有 5 所\n",
            "臺中市, 有 11 所\n",
            "嘉義市, 有 2 所\n",
            "臺南市, 有 4 所\n",
            "臺北市, 有 24 所\n",
            "高雄市, 有 8 所\n",
            "金門縣, 有 1 所\n",
            "位於新北市的大專院校總共有: 20 所\n"
          ]
        }
      ]
    },
    {
      "cell_type": "markdown",
      "source": [
        "# 5. 北中南東區分別有？所\n",
        "\n",
        "都市及區域發展統計彙編 - 國發會 https://www.ndc.gov.tw/nc_77_4402\n",
        "\n",
        "北部區域：包括臺北市、新北市、基隆市、新竹市、桃園市、新竹縣及宜蘭縣。\n",
        "\n",
        "中部區域：包括臺中市、苗栗縣、彰化縣、南投縣及雲林縣。\n",
        "\n",
        "南部區域：包括高雄市、臺南市、嘉義市、嘉義縣、屏東縣及澎湖縣。\n",
        "\n",
        "東部區域：包括花蓮縣及臺東縣。\n",
        "\n",
        "福建省：包括金門縣與連江縣。"
      ],
      "metadata": {
        "id": "cwKsmmdNXKwL"
      }
    },
    {
      "cell_type": "code",
      "source": [
        "# First, let's map each city to its corresponding region based on the provided classification.\n",
        "# Then, we'll calculate the number of unique universities in each region.\n",
        "\n",
        "# Mapping of cities to regions\n",
        "city_to_region = {\n",
        "    '臺北市': '北部',\n",
        "    '新北市': '北部',\n",
        "    '基隆市': '北部',\n",
        "    '新竹市': '北部',\n",
        "    '桃園市': '北部',\n",
        "    '新竹縣': '北部',\n",
        "    '宜蘭縣': '北部',\n",
        "    '臺中市': '中部',\n",
        "    '苗栗縣': '中部',\n",
        "    '彰化縣': '中部',\n",
        "    '南投縣': '中部',\n",
        "    '雲林縣': '中部',\n",
        "    '高雄市': '南部',\n",
        "    '臺南市': '南部',\n",
        "    '嘉義市': '南部',\n",
        "    '嘉義縣': '南部',\n",
        "    '屏東縣': '南部',\n",
        "    '澎湖縣': '南部',\n",
        "    '花蓮縣': '東部',\n",
        "    '臺東縣': '東部',\n",
        "    '金門縣': '福建省',\n",
        "    '連江縣': '福建省'\n",
        "}\n",
        "\n",
        "df['縣市名稱'] = df['縣市名稱'].str.replace(r'^\\d+\\s', '', regex=True)\n",
        "\n",
        "# Create a new column 'Region' based on the '縣市名稱' column mapped through city_to_region\n",
        "df['區域'] = df['縣市名稱'].map(lambda x: city_to_region.get(x, '未知'))\n",
        "\n",
        "# Count the number of unique universities in each region\n",
        "universities_per_region = df.groupby('區域')['學校名稱'].nunique()\n",
        "# print(universities_per_region.info(verbose=True, show_counts=True))\n",
        "print(\"本資料共蒐集\",universities_per_region.sum(),\"筆資料\")\n",
        "for i in range(len(universities_per_region)):\n",
        "  print(f\"{universities_per_region.index[i]} 有 {universities_per_region[i]} 間\")\n"
      ],
      "metadata": {
        "id": "IzyzbPc16yj5",
        "colab": {
          "base_uri": "https://localhost:8080/"
        },
        "outputId": "0ba3dcd3-273b-4384-b40b-73e501c226ff"
      },
      "execution_count": 35,
      "outputs": [
        {
          "output_type": "stream",
          "name": "stdout",
          "text": [
            "本資料共蒐集 145 筆資料\n",
            "中部 有 29 間\n",
            "北部 有 69 間\n",
            "南部 有 40 間\n",
            "東部 有 6 間\n",
            "福建省 有 1 間\n"
          ]
        }
      ]
    },
    {
      "cell_type": "markdown",
      "source": [
        "# 6. 各體系別分別有？所"
      ],
      "metadata": {
        "id": "7WkoovplBeaz"
      }
    },
    {
      "cell_type": "code",
      "source": [
        "institutions_per_system = df.groupby('體系別')['學校名稱'].nunique()\n",
        "print(f\"全部共有 {institutions_per_system.sum()} 筆資料，其中：\")\n",
        "for system_type, count in institutions_per_system.items():\n",
        "    print(f\"{system_type} 共有: {count} 所\")\n"
      ],
      "metadata": {
        "id": "JKMhMFVMBiBF",
        "colab": {
          "base_uri": "https://localhost:8080/"
        },
        "outputId": "e8bb808f-4d16-4542-ec3a-d2efa8cce7d0"
      },
      "execution_count": 42,
      "outputs": [
        {
          "output_type": "stream",
          "name": "stdout",
          "text": [
            "全部共有 158 筆資料，其中：\n",
            "1 一般 共有: 62 所\n",
            "2 技職 共有: 91 所\n",
            "3 師範 共有: 5 所\n"
          ]
        }
      ]
    },
    {
      "cell_type": "markdown",
      "source": [
        "# 7. 國立/私立與男女比\n"
      ],
      "metadata": {
        "id": "h3ujPC6KCLxI"
      }
    },
    {
      "cell_type": "code",
      "source": [
        "# Calculate the sum of male and female students in public and private universities\n",
        "gender_totals = df.groupby('公私立').agg({'男生計': 'sum', '女生計': 'sum'})\n",
        "\n",
        "# Calculate the male-to-female ratio for public and private universities\n",
        "gender_totals['男女比例'] = gender_totals['男生計'] / gender_totals['女生計']\n",
        "\n",
        "# gender_totals\n",
        "# gender_totals[['男女比例']]\n",
        "for index, rate in gender_totals['男女比例'].items():\n",
        "    print(f\"{index}的男女比為 {round(rate * 100, 2)}\")\n",
        "\n"
      ],
      "metadata": {
        "id": "deMDYF5ACMU-",
        "colab": {
          "base_uri": "https://localhost:8080/"
        },
        "outputId": "91d8daa4-9ce0-4bf6-97bd-4fe8601646e5"
      },
      "execution_count": 59,
      "outputs": [
        {
          "output_type": "stream",
          "name": "stdout",
          "text": [
            "國立的男女比為 119.84\n",
            "私立的男女比為 84.48\n"
          ]
        }
      ]
    },
    {
      "cell_type": "markdown",
      "source": [
        "# 8. 國立大學在學生男女比"
      ],
      "metadata": {
        "id": "DAvYMOFLCtRn"
      }
    },
    {
      "cell_type": "code",
      "source": [
        "# Filter for national (國立) universities\n",
        "national_universities = df[df['公私立'] == '國立']\n",
        "\n",
        "# Calculate the sum of male and female students, excluding extension students\n",
        "adjusted_male_total = national_universities['男生計'].sum() - national_universities['延修生男'].sum()\n",
        "adjusted_female_total = national_universities['女生計'].sum() - national_universities['延修生女'].sum()\n",
        "\n",
        "# Calculate the male-to-female ratio for national universities, excluding extension students\n",
        "adjusted_national_gender_ratio = adjusted_male_total / adjusted_female_total\n",
        "\n",
        "print(f\"國立大學在學生男女比為: {round(adjusted_national_gender_ratio * 100,2)}\")"
      ],
      "metadata": {
        "id": "dYAEBiC7Co8B",
        "colab": {
          "base_uri": "https://localhost:8080/"
        },
        "outputId": "63e89544-753e-4a97-d3c0-5dcd2618db06"
      },
      "execution_count": 49,
      "outputs": [
        {
          "output_type": "stream",
          "name": "stdout",
          "text": [
            "國立大學在學生男女比為: 119.11\n"
          ]
        }
      ]
    },
    {
      "cell_type": "markdown",
      "source": [
        " # 9. 每校平均最多與最少人的體系"
      ],
      "metadata": {
        "id": "zWIyQ01LXGo_"
      }
    },
    {
      "cell_type": "code",
      "source": [
        "total_students_per_system = df.groupby('體系別')['總計'].sum()\n",
        "# institutions_per_system\n",
        "# total_students_per_system\n",
        "average_students_per_system = total_students_per_system / institutions_per_system\n",
        "# average_students_per_system\n",
        "maxID = average_students_per_system.idxmax()\n",
        "minID = average_students_per_system.idxmin()\n",
        "print(f\"每校平均最多人的是{maxID}體系，平均每校 {round(average_students_per_system[maxID],2)} 人；\")\n",
        "print(f\"每校平均最少人的是{minID}體系，平均每校 {round(average_students_per_system[minID],2)} 人。\")"
      ],
      "metadata": {
        "id": "uSHT2gbiXIW8",
        "colab": {
          "base_uri": "https://localhost:8080/"
        },
        "outputId": "950fee87-cdf9-4b3e-f5cf-cd412d4eda44"
      },
      "execution_count": 77,
      "outputs": [
        {
          "output_type": "stream",
          "name": "stdout",
          "text": [
            "每校平均最多人的是1 一般體系，平均每校 9224.89 人；\n",
            "每校平均最少人的是2 技職體系，平均每校 5265.91 人。\n"
          ]
        }
      ]
    },
    {
      "cell_type": "markdown",
      "source": [
        "# 10. 將新增的欄位寫入並儲存成新的CSV檔案，並命名為112_students_tf.csv\n",
        "\n",
        "新增的欄位有\"公私立\"，\"縣市名\"，\"區域\""
      ],
      "metadata": {
        "id": "KIx0QtssywfA"
      }
    },
    {
      "cell_type": "code",
      "source": [
        "df\n",
        "df.to_csv('./latia/112_students_tf.csv', encoding='utf-8', sep=',')"
      ],
      "metadata": {
        "id": "LZUhVcpGzFOE"
      },
      "execution_count": 63,
      "outputs": []
    }
  ]
}