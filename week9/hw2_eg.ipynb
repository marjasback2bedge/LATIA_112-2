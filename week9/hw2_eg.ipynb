{
  "nbformat": 4,
  "nbformat_minor": 0,
  "metadata": {
    "colab": {
      "provenance": []
    },
    "kernelspec": {
      "name": "python3",
      "display_name": "Python 3"
    },
    "language_info": {
      "name": "python"
    }
  },
  "cells": [
    {
      "cell_type": "code",
      "execution_count": 1,
      "metadata": {
        "colab": {
          "base_uri": "https://localhost:8080/"
        },
        "id": "ll5dDP_ZsML8",
        "outputId": "cc525acc-0ea3-4cee-a342-82fd66098c8b"
      },
      "outputs": [
        {
          "output_type": "stream",
          "name": "stdout",
          "text": [
            "Mounted at /content/gdrive/\n"
          ]
        },
        {
          "output_type": "execute_result",
          "data": {
            "text/plain": [
              "['112_student.csv',\n",
              " '112_students_tf.csv',\n",
              " 'std_each_week_study_tf.csv',\n",
              " 'faraway111.csv']"
            ]
          },
          "metadata": {},
          "execution_count": 1
        }
      ],
      "source": [
        "# Connetced yourself Cloud Storage\n",
        "from google.colab import drive\n",
        "drive.mount('/content/gdrive/', force_remount=True)\n",
        "\n",
        "import os\n",
        "os.chdir(\"/content/gdrive/My Drive/latia/\")\n",
        "os.listdir()"
      ]
    },
    {
      "cell_type": "code",
      "source": [
        "!pip install selenium"
      ],
      "metadata": {
        "colab": {
          "base_uri": "https://localhost:8080/"
        },
        "id": "hFARFPeJshAI",
        "outputId": "9a2fcd3f-f78f-46c1-ca5f-9cd2871a01a2"
      },
      "execution_count": 2,
      "outputs": [
        {
          "output_type": "stream",
          "name": "stdout",
          "text": [
            "Collecting selenium\n",
            "  Downloading selenium-4.19.0-py3-none-any.whl (10.5 MB)\n",
            "\u001b[2K     \u001b[90m━━━━━━━━━━━━━━━━━━━━━━━━━━━━━━━━━━━━━━━━\u001b[0m \u001b[32m10.5/10.5 MB\u001b[0m \u001b[31m19.8 MB/s\u001b[0m eta \u001b[36m0:00:00\u001b[0m\n",
            "\u001b[?25hRequirement already satisfied: urllib3[socks]<3,>=1.26 in /usr/local/lib/python3.10/dist-packages (from selenium) (2.0.7)\n",
            "Collecting trio~=0.17 (from selenium)\n",
            "  Downloading trio-0.25.0-py3-none-any.whl (467 kB)\n",
            "\u001b[2K     \u001b[90m━━━━━━━━━━━━━━━━━━━━━━━━━━━━━━━━━━━━━━━━\u001b[0m \u001b[32m467.2/467.2 kB\u001b[0m \u001b[31m35.3 MB/s\u001b[0m eta \u001b[36m0:00:00\u001b[0m\n",
            "\u001b[?25hCollecting trio-websocket~=0.9 (from selenium)\n",
            "  Downloading trio_websocket-0.11.1-py3-none-any.whl (17 kB)\n",
            "Requirement already satisfied: certifi>=2021.10.8 in /usr/local/lib/python3.10/dist-packages (from selenium) (2024.2.2)\n",
            "Requirement already satisfied: typing_extensions>=4.9.0 in /usr/local/lib/python3.10/dist-packages (from selenium) (4.11.0)\n",
            "Requirement already satisfied: attrs>=23.2.0 in /usr/local/lib/python3.10/dist-packages (from trio~=0.17->selenium) (23.2.0)\n",
            "Requirement already satisfied: sortedcontainers in /usr/local/lib/python3.10/dist-packages (from trio~=0.17->selenium) (2.4.0)\n",
            "Requirement already satisfied: idna in /usr/local/lib/python3.10/dist-packages (from trio~=0.17->selenium) (3.6)\n",
            "Collecting outcome (from trio~=0.17->selenium)\n",
            "  Downloading outcome-1.3.0.post0-py2.py3-none-any.whl (10 kB)\n",
            "Requirement already satisfied: sniffio>=1.3.0 in /usr/local/lib/python3.10/dist-packages (from trio~=0.17->selenium) (1.3.1)\n",
            "Requirement already satisfied: exceptiongroup in /usr/local/lib/python3.10/dist-packages (from trio~=0.17->selenium) (1.2.0)\n",
            "Collecting wsproto>=0.14 (from trio-websocket~=0.9->selenium)\n",
            "  Downloading wsproto-1.2.0-py3-none-any.whl (24 kB)\n",
            "Requirement already satisfied: pysocks!=1.5.7,<2.0,>=1.5.6 in /usr/local/lib/python3.10/dist-packages (from urllib3[socks]<3,>=1.26->selenium) (1.7.1)\n",
            "Collecting h11<1,>=0.9.0 (from wsproto>=0.14->trio-websocket~=0.9->selenium)\n",
            "  Downloading h11-0.14.0-py3-none-any.whl (58 kB)\n",
            "\u001b[2K     \u001b[90m━━━━━━━━━━━━━━━━━━━━━━━━━━━━━━━━━━━━━━━━\u001b[0m \u001b[32m58.3/58.3 kB\u001b[0m \u001b[31m4.9 MB/s\u001b[0m eta \u001b[36m0:00:00\u001b[0m\n",
            "\u001b[?25hInstalling collected packages: outcome, h11, wsproto, trio, trio-websocket, selenium\n",
            "Successfully installed h11-0.14.0 outcome-1.3.0.post0 selenium-4.19.0 trio-0.25.0 trio-websocket-0.11.1 wsproto-1.2.0\n"
          ]
        }
      ]
    },
    {
      "cell_type": "code",
      "source": [
        "# 這段程式碼是使用Selenium函式庫來控制Chrome瀏覽器，並從網頁中提取特定元素的文本內容。\n",
        "\n",
        "\n",
        "# 導入Selenium的webdriver模組，用於控制Chrome瀏覽器。\n",
        "from selenium import webdriver\n",
        "\n",
        "# 從Selenium函式庫的common.by模組中導入`By`，用於指定元素的定位方式。\n",
        "from selenium.webdriver.common.by import By\n",
        "import pandas as pd\n",
        "\n",
        "# 建立ChromeOptions物件，這個物件用於設定Chrome瀏覽器的選項。\n",
        "chrome_options = webdriver.ChromeOptions()\n",
        "\n",
        "# 使用add_argument()方法添加--headless參數，使Chrome以headless模式運行，即在後台運行，不顯示GUI界面。\n",
        "chrome_options.add_argument('--headless')\n",
        "\n",
        "# 使用add_argument()方法添加--no-sandbox參數，這是一個必要的參數，用於解決在某些環境下的運行問題。\n",
        "chrome_options.add_argument('--no-sandbox')\n",
        "\n",
        "# 將 headless 屬性設置為 True。\n",
        "chrome_options.headless = True\n",
        "\n",
        "# 初始化Chrome WebDriver，並傳遞Chromedriver的路徑和選項。\n",
        "driver = webdriver.Chrome(options=chrome_options)\n",
        "\n",
        "# 設置隱式等待時間為10秒。隱式等待是在查找元素時的一種等待方式，\n",
        "# 如果WebDriver沒有找到元素，它會等待一定的時間再進行查找，直到超過設定的時間為止。\n",
        "driver.implicitly_wait(10)\n",
        "\n",
        "# 使用get方法訪問指定的URL，在此是\"https://www.flag.com.tw/books/school_code_n_algo\"。\n",
        "driver.get(\"https://www.flag.com.tw/books/school_code_n_algo\")\n",
        "\n",
        "\n",
        "p_elements = driver.find_elements(By.TAG_NAME, \"p\")\n",
        "\n",
        "# 定義一個results_p空的列表\n",
        "results_p = []\n",
        "results_a = []\n",
        "\n",
        "# 使用for迴圈拜訪items列表，並逐一列印每個課程的標題。\n",
        "for p in p_elements:\n",
        "  results_p.append(p.text)\n",
        "  # 通過LINK_TEXT鏈接文本\"p.text\"定位到超鏈接元素，並將其儲存在link1變數中。\n",
        "  link1 = driver.find_element(By.LINK_TEXT, str(p.text))\n",
        "  # 列印link1元素的URL。\n",
        "  #print(link1.get_attribute(\"href\"))\n",
        "  results_a.append(link1.get_attribute(\"href\"))\n",
        "\n",
        "\n",
        "print(results_p[1:])\n",
        "print('---------------------------')\n",
        "print(results_a[1:])\n",
        "print('---------------------------')\n",
        "\n",
        "\n",
        "result = list(zip(results_p[1:], results_a[1:]))\n",
        "print(result)\n",
        "\n",
        "columns = ['book_name', 'book_url']\n",
        "df = pd.DataFrame(result,columns=columns)\n",
        "df.to_csv('flag_book041524.csv', sep=',', encoding='utf-8', index=None, header=True)\n",
        "\n",
        "# 這個方法會關閉WebDriver並結束瀏覽器進程。這是為了確保在使用完瀏覽器後，程式可以正確地退出。\n",
        "driver.quit()"
      ],
      "metadata": {
        "colab": {
          "base_uri": "https://localhost:8080/"
        },
        "id": "XEpIB5tvssdt",
        "outputId": "a5802ce0-b653-4b70-bc87-55a151678b30"
      },
      "execution_count": 3,
      "outputs": [
        {
          "output_type": "stream",
          "name": "stdout",
          "text": [
            "['新觀念 Visual C# 程式設計範例教本 第六版', 'ChatGPT 開發手冊 Turbo×Vision 進化版—用 OpenAI Chat/Assistants API‧Function calling 設計 GPTs action‧LINE/Discord bot‧股市分析/自動助理', 'Unity 遊戲設計：程式基礎、操作祕訣、製作流程、關卡設計全攻略', 'ChatGPT✕Excel VBA 網路爬蟲與資料分析：使用生成式 AI 「重啟」你的 Excel 辦公室自動化', '世界第一簡單的 Python「超」入門 - 零基礎 OK！ChatGPT 隨時當助教！', 'Java 教學手冊 第六版', 'Python ✕ ChatGPT ✕ Excel 高效率打造辦公室作業+數據分析自動化', 'Excel 儀表板與圖表設計 + Power BI 資料處理 (Excel 2019、2021適用)', 'Python 資料結構×演算法 刷題鍛鍊班：234 題帶你突破 Coding 面試的難關', '超圖解 C 語言--用資料結構×演算法突破 APCS', 'FLAG`S 創客‧自造者工作坊 10+ 實驗(「Arduino 超入門: 創客‧自造者的原力」書+實驗套件)', '一步到位！Python 程式設計-最強入門教科書 第三版', 'Python 教學手冊', '最新 Java 程式語言 修訂第七版', 'App Inventor 2 互動範例教本 Android/iOS 雙平台適用 第 5 版', 'Raspberry Pi 樹莓派：Python x AI 超應用聖經', '新觀念 PHP8+MySQL+AJAX 網頁程式範例教本 第六版', '深度學習的 16 堂課：CNN + RNN + GAN + DQN + DRL, 看得懂、學得會、做得出！', '白話演算法！\\n培養程式設計的邏輯思考', 'Python 刷題鍛鍊班：老手都刷過的 50 道程式題, 求職面試最給力', '超圖解 ESP32 深度實作', 'Python 技術者們 - 實踐！帶你一步一腳印由初學到精通 第二版', '跨領域學 Python：資料科學基礎養成', '超圖解 Arduino 互動設計入門 第四版', '新觀念 Visual C# 程式設計範例教本 第五版', \"Flag's 創客‧自造者工作坊 密室逃脫：神秘寶盒 & 拆彈專家\", 'TensorFlow 與 Keras - Python 深度學習應用實務', '超圖解 Python 程式設計入門', '用 Python 學運算思維', '札根學習 Python 程式設計 - 176 個絕對想馬上跟著做的「超互動範例」', 'Python 網路爬蟲與資料視覺化應用實務', \"Flag's 創客‧自造者工作坊 AI 聊天機器人手機座\", '學會 C 語言 - 從不懂，到玩上手！圖控邏輯加強版', 'Ubuntu 系統管理與架站實務 第三版', \"Flag's 創客‧自造者工作坊 AI × LINE 聲控/人臉辨識生活大應用\", '新一代 JavaScript 程式設計精解 -《對應 ECMAScript 全新語法標準》', '從零開始！Java 程式設計入門', '從零開始！邁向數據分析 SQL 資料庫語法入門', '超圖解 Python 物聯網實作入門- 使用 ESP8266 與 MicroPython', '精通大數據！R 語言資料分析與應用 第二版', '細談資料結構 第七版', '新觀念 Microsoft Visual Basic 2017 程式設計', 'Android App 程式設計教本之無痛起步- 使用 Android Studio 2.X 開發環境', 'Microsoft SQL Server 2016 設計實務', '發現演算法', '從零開始! 邁向嵌入式開發 C語言程式設計入門', 'ASP.NET 4.6 網頁製作徹底研究 - 使用 C#', '網頁程式設計的16堂課: HTML5、CSS3、JavaScript、jQuery、AJAX、Bootstrap Google Maps', '資料結構理論與實務- 以 Java 語言實作 第二版', 'Unity 3D 遊戲設計範例講堂 - 人氣遊戲這樣做!(附DVD)', 'Matlab 程式設計 第2版 (附CD)', 'Java 7 教學手冊 第五版 (附CD)', 'C/C++ 無痛學習教本(附CD)', 'C++ 教學手冊 第三版', 'Microsoft SQL Server 2008 管理實務', 'C 語言教學手冊 第4版', '最新C++程式語言']\n",
            "---------------------------\n",
            "['https://www.flag.com.tw/books/product_s/F3714', 'https://www.flag.com.tw/books/product_s/F4762', 'https://www.flag.com.tw/books/product_s/F3589', 'https://www.flag.com.tw/books/product_s/F3158', 'https://www.flag.com.tw/books/product_s/F3768', 'https://www.flag.com.tw/books/product_s/F3733', 'https://www.flag.com.tw/books/product_s/F3034', 'https://www.flag.com.tw/books/product_s/F2016', 'https://www.flag.com.tw/books/product_s/F2752', 'https://www.flag.com.tw/books/product_s/F2795', 'https://www.flag.com.tw/books/product_s/F6789B', 'https://www.flag.com.tw/books/product_s/F2719', 'https://www.flag.com.tw/books/product_s/F2711', 'https://www.flag.com.tw/books/product_s/F9720A', 'https://www.flag.com.tw/books/product_s/F2777', 'https://www.flag.com.tw/books/product_s/F1786', 'https://www.flag.com.tw/books/product_s/F1473', 'https://www.flag.com.tw/books/product_s/F1383', 'https://www.flag.com.tw/books/product_s/F1709', 'https://www.flag.com.tw/books/product_s/F1750', 'https://www.flag.com.tw/books/product_s/F1794', 'https://www.flag.com.tw/books/product_s/F1700', 'https://www.flag.com.tw/books/product_s/F0753', 'https://www.flag.com.tw/books/product_s/F0799', 'https://www.flag.com.tw/books/product_s/F9714', 'https://www.flag.com.tw/books/product_s/FM618A', 'https://www.flag.com.tw/books/product_s/F9744', 'https://www.flag.com.tw/books/product_s/F9796', 'https://www.flag.com.tw/books/product_s/F9751', 'https://www.flag.com.tw/books/product_s/F9707', 'https://www.flag.com.tw/books/product_s/FT748', 'https://www.flag.com.tw/books/product_s/FM613A', 'https://www.flag.com.tw/books/product_s/FT715', 'https://www.flag.com.tw/books/product_s/FT127', 'https://www.flag.com.tw/books/product_s/FM611A', 'https://www.flag.com.tw/books/product_s/FT482', 'https://www.flag.com.tw/books/product_s/FT735', 'https://www.flag.com.tw/books/product_s/FT144', 'https://www.flag.com.tw/books/product_s/FT797', 'https://www.flag.com.tw/books/product_s/FT737', 'https://www.flag.com.tw/books/product_s/F7801D', 'https://www.flag.com.tw/books/product_s/FS740', 'https://www.flag.com.tw/books/product_s/FS761', 'https://www.flag.com.tw/books/product_s/FS112', 'https://www.flag.com.tw/books/product_s/F7809', 'https://www.flag.com.tw/books/product_s/F6701', 'https://www.flag.com.tw/books/product_s/F6499', 'https://www.flag.com.tw/books/product_s/F6465', 'https://www.flag.com.tw/books/product_s/F7533', 'https://www.flag.com.tw/books/product_s/F8795', 'https://www.flag.com.tw/books/product_s/F8752A', 'https://www.flag.com.tw/books/product_s/F2733', 'https://www.flag.com.tw/books/product_s/F7807', 'https://www.flag.com.tw/books/product_s/F0713', 'https://www.flag.com.tw/books/product_s/FT221', 'https://www.flag.com.tw/books/product_s/FS712', 'https://www.flag.com.tw/books/product_s/F5700']\n",
            "---------------------------\n",
            "[('新觀念 Visual C# 程式設計範例教本 第六版', 'https://www.flag.com.tw/books/product_s/F3714'), ('ChatGPT 開發手冊 Turbo×Vision 進化版—用 OpenAI Chat/Assistants API‧Function calling 設計 GPTs action‧LINE/Discord bot‧股市分析/自動助理', 'https://www.flag.com.tw/books/product_s/F4762'), ('Unity 遊戲設計：程式基礎、操作祕訣、製作流程、關卡設計全攻略', 'https://www.flag.com.tw/books/product_s/F3589'), ('ChatGPT✕Excel VBA 網路爬蟲與資料分析：使用生成式 AI 「重啟」你的 Excel 辦公室自動化', 'https://www.flag.com.tw/books/product_s/F3158'), ('世界第一簡單的 Python「超」入門 - 零基礎 OK！ChatGPT 隨時當助教！', 'https://www.flag.com.tw/books/product_s/F3768'), ('Java 教學手冊 第六版', 'https://www.flag.com.tw/books/product_s/F3733'), ('Python ✕ ChatGPT ✕ Excel 高效率打造辦公室作業+數據分析自動化', 'https://www.flag.com.tw/books/product_s/F3034'), ('Excel 儀表板與圖表設計 + Power BI 資料處理 (Excel 2019、2021適用)', 'https://www.flag.com.tw/books/product_s/F2016'), ('Python 資料結構×演算法 刷題鍛鍊班：234 題帶你突破 Coding 面試的難關', 'https://www.flag.com.tw/books/product_s/F2752'), ('超圖解 C 語言--用資料結構×演算法突破 APCS', 'https://www.flag.com.tw/books/product_s/F2795'), ('FLAG`S 創客‧自造者工作坊 10+ 實驗(「Arduino 超入門: 創客‧自造者的原力」書+實驗套件)', 'https://www.flag.com.tw/books/product_s/F6789B'), ('一步到位！Python 程式設計-最強入門教科書 第三版', 'https://www.flag.com.tw/books/product_s/F2719'), ('Python 教學手冊', 'https://www.flag.com.tw/books/product_s/F2711'), ('最新 Java 程式語言 修訂第七版', 'https://www.flag.com.tw/books/product_s/F9720A'), ('App Inventor 2 互動範例教本 Android/iOS 雙平台適用 第 5 版', 'https://www.flag.com.tw/books/product_s/F2777'), ('Raspberry Pi 樹莓派：Python x AI 超應用聖經', 'https://www.flag.com.tw/books/product_s/F1786'), ('新觀念 PHP8+MySQL+AJAX 網頁程式範例教本 第六版', 'https://www.flag.com.tw/books/product_s/F1473'), ('深度學習的 16 堂課：CNN + RNN + GAN + DQN + DRL, 看得懂、學得會、做得出！', 'https://www.flag.com.tw/books/product_s/F1383'), ('白話演算法！\\n培養程式設計的邏輯思考', 'https://www.flag.com.tw/books/product_s/F1709'), ('Python 刷題鍛鍊班：老手都刷過的 50 道程式題, 求職面試最給力', 'https://www.flag.com.tw/books/product_s/F1750'), ('超圖解 ESP32 深度實作', 'https://www.flag.com.tw/books/product_s/F1794'), ('Python 技術者們 - 實踐！帶你一步一腳印由初學到精通 第二版', 'https://www.flag.com.tw/books/product_s/F1700'), ('跨領域學 Python：資料科學基礎養成', 'https://www.flag.com.tw/books/product_s/F0753'), ('超圖解 Arduino 互動設計入門 第四版', 'https://www.flag.com.tw/books/product_s/F0799'), ('新觀念 Visual C# 程式設計範例教本 第五版', 'https://www.flag.com.tw/books/product_s/F9714'), (\"Flag's 創客‧自造者工作坊 密室逃脫：神秘寶盒 & 拆彈專家\", 'https://www.flag.com.tw/books/product_s/FM618A'), ('TensorFlow 與 Keras - Python 深度學習應用實務', 'https://www.flag.com.tw/books/product_s/F9744'), ('超圖解 Python 程式設計入門', 'https://www.flag.com.tw/books/product_s/F9796'), ('用 Python 學運算思維', 'https://www.flag.com.tw/books/product_s/F9751'), ('札根學習 Python 程式設計 - 176 個絕對想馬上跟著做的「超互動範例」', 'https://www.flag.com.tw/books/product_s/F9707'), ('Python 網路爬蟲與資料視覺化應用實務', 'https://www.flag.com.tw/books/product_s/FT748'), (\"Flag's 創客‧自造者工作坊 AI 聊天機器人手機座\", 'https://www.flag.com.tw/books/product_s/FM613A'), ('學會 C 語言 - 從不懂，到玩上手！圖控邏輯加強版', 'https://www.flag.com.tw/books/product_s/FT715'), ('Ubuntu 系統管理與架站實務 第三版', 'https://www.flag.com.tw/books/product_s/FT127'), (\"Flag's 創客‧自造者工作坊 AI × LINE 聲控/人臉辨識生活大應用\", 'https://www.flag.com.tw/books/product_s/FM611A'), ('新一代 JavaScript 程式設計精解 -《對應 ECMAScript 全新語法標準》', 'https://www.flag.com.tw/books/product_s/FT482'), ('從零開始！Java 程式設計入門', 'https://www.flag.com.tw/books/product_s/FT735'), ('從零開始！邁向數據分析 SQL 資料庫語法入門', 'https://www.flag.com.tw/books/product_s/FT144'), ('超圖解 Python 物聯網實作入門- 使用 ESP8266 與 MicroPython', 'https://www.flag.com.tw/books/product_s/FT797'), ('精通大數據！R 語言資料分析與應用 第二版', 'https://www.flag.com.tw/books/product_s/FT737'), ('細談資料結構 第七版', 'https://www.flag.com.tw/books/product_s/F7801D'), ('新觀念 Microsoft Visual Basic 2017 程式設計', 'https://www.flag.com.tw/books/product_s/FS740'), ('Android App 程式設計教本之無痛起步- 使用 Android Studio 2.X 開發環境', 'https://www.flag.com.tw/books/product_s/FS761'), ('Microsoft SQL Server 2016 設計實務', 'https://www.flag.com.tw/books/product_s/FS112'), ('發現演算法', 'https://www.flag.com.tw/books/product_s/F7809'), ('從零開始! 邁向嵌入式開發 C語言程式設計入門', 'https://www.flag.com.tw/books/product_s/F6701'), ('ASP.NET 4.6 網頁製作徹底研究 - 使用 C#', 'https://www.flag.com.tw/books/product_s/F6499'), ('網頁程式設計的16堂課: HTML5、CSS3、JavaScript、jQuery、AJAX、Bootstrap Google Maps', 'https://www.flag.com.tw/books/product_s/F6465'), ('資料結構理論與實務- 以 Java 語言實作 第二版', 'https://www.flag.com.tw/books/product_s/F7533'), ('Unity 3D 遊戲設計範例講堂 - 人氣遊戲這樣做!(附DVD)', 'https://www.flag.com.tw/books/product_s/F8795'), ('Matlab 程式設計 第2版 (附CD)', 'https://www.flag.com.tw/books/product_s/F8752A'), ('Java 7 教學手冊 第五版 (附CD)', 'https://www.flag.com.tw/books/product_s/F2733'), ('C/C++ 無痛學習教本(附CD)', 'https://www.flag.com.tw/books/product_s/F7807'), ('C++ 教學手冊 第三版', 'https://www.flag.com.tw/books/product_s/F0713'), ('Microsoft SQL Server 2008 管理實務', 'https://www.flag.com.tw/books/product_s/FT221'), ('C 語言教學手冊 第4版', 'https://www.flag.com.tw/books/product_s/FS712'), ('最新C++程式語言', 'https://www.flag.com.tw/books/product_s/F5700')]\n"
          ]
        }
      ]
    },
    {
      "cell_type": "code",
      "source": [
        "os.listdir()"
      ],
      "metadata": {
        "id": "5Yp5gXObtZvY",
        "outputId": "9c932256-d100-4fde-b300-a29ab1e173b8",
        "colab": {
          "base_uri": "https://localhost:8080/"
        }
      },
      "execution_count": 4,
      "outputs": [
        {
          "output_type": "execute_result",
          "data": {
            "text/plain": [
              "['112_student.csv',\n",
              " '112_students_tf.csv',\n",
              " 'std_each_week_study_tf.csv',\n",
              " 'faraway111.csv',\n",
              " 'flag_book041524.csv']"
            ]
          },
          "metadata": {},
          "execution_count": 4
        }
      ]
    }
  ]
}