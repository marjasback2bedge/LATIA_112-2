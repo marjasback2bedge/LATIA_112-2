{
  "nbformat": 4,
  "nbformat_minor": 0,
  "metadata": {
    "colab": {
      "provenance": []
    },
    "kernelspec": {
      "name": "python3",
      "display_name": "Python 3"
    },
    "language_info": {
      "name": "python"
    }
  },
  "cells": [
    {
      "cell_type": "markdown",
      "source": [
        "from google colab import files #匯入套件\n",
        "\n",
        "import pandas as pd\n",
        "\n",
        "upload = files.upload() #開啟上傳介面並載入\n",
        "\n",
        "data = pd.read_csv(\"剛剛上傳的檔案名稱\")"
      ],
      "metadata": {
        "id": "iaUICnvVBX5N"
      }
    },
    {
      "cell_type": "code",
      "execution_count": 1,
      "metadata": {
        "id": "nrJeVAasiBPQ",
        "colab": {
          "base_uri": "https://localhost:8080/"
        },
        "outputId": "712dd101-3e29-4e2e-86e9-8c24110d37d9"
      },
      "outputs": [
        {
          "output_type": "stream",
          "name": "stdout",
          "text": [
            "Mounted at /content/gdrive/\n",
            "ls: invalid option -- '/'\n",
            "Try 'ls --help' for more information.\n"
          ]
        }
      ],
      "source": [
        "from google.colab import drive\n",
        "drive.mount('/content/gdrive/', force_remount=True)\n",
        "\n",
        "import os\n",
        "os.chdir(\"/content/gdrive/My Drive/\")\n",
        "!ls -l\"/content/gdrive/My Drive/latia/\"\n",
        "#!ls -l \"自行填寫正確的路徑\""
      ]
    },
    {
      "cell_type": "code",
      "source": [
        "import pandas as pd\n",
        "\n",
        "csv_file = './latia/112_student.csv'\n",
        "#csv_file =\"自行填寫正確的路徑\"\n",
        "\n",
        "columns = [\n",
        "   \"學年度\",\"學校代碼\",\"學校名稱\",\"日間∕進修別\",\"等級別\",\"總計\",\"男生計\",\n",
        "   \"女生計\",\"一年級男\",\"一年級女\",\"二年級男\",\"二年級女\",\"三年級男\",\"三年級女\",\n",
        "   \"四年級男\",\"四年級女\",\"五年級男\",\"五年級女\",\"六年級男\",\"六年級女\",\n",
        "   \"七年級男\",\"七年級女\",\"延修生男\",\"延修生女\",\"縣市名稱\",\"體系別\"\n",
        "]\n",
        "\n",
        "df = pd.read_csv(csv_file, encoding='utf-8')\n",
        "\n",
        "#查看前n筆資料, 預設為五\n",
        "print(df.head(3))\n",
        "\n",
        "#查看資料欄位資訊\n",
        "print(df.info(verbose=True, show_counts=True))\n",
        "\n",
        "#查看資料的統計學資訊描述\n",
        "print(df.describe())"
      ],
      "metadata": {
        "id": "hth5CL3clOs2",
        "colab": {
          "base_uri": "https://localhost:8080/"
        },
        "outputId": "bbb78a43-6018-4975-e755-f1b7885434cd"
      },
      "execution_count": 4,
      "outputs": [
        {
          "output_type": "stream",
          "name": "stdout",
          "text": [
            "   學年度  學校代碼    學校名稱 日間∕進修別   等級別    總計   男生計   女生計  一年級男  一年級女  ...  五年級男  \\\n",
            "0  112     1  國立政治大學    D 日  D 博士   921   517   404    86    69  ...    63   \n",
            "1  112     1  國立政治大學    D 日  M 碩士  4231  1835  2396   598   809  ...     2   \n",
            "2  112     1  國立政治大學    N 職  M 碩士  1903   938   965   262   304  ...    77   \n",
            "\n",
            "   五年級女  六年級男  六年級女  七年級男  七年級女  延修生男  延修生女    縣市名稱   體系別  \n",
            "0    52    68    37    66    50     0     0  30 臺北市  1 一般  \n",
            "1     1     1     0     0     0     0     0  30 臺北市  1 一般  \n",
            "2    57     0     0     0     0     0     0  30 臺北市  1 一般  \n",
            "\n",
            "[3 rows x 26 columns]\n",
            "<class 'pandas.core.frame.DataFrame'>\n",
            "RangeIndex: 764 entries, 0 to 763\n",
            "Data columns (total 26 columns):\n",
            " #   Column  Non-Null Count  Dtype \n",
            "---  ------  --------------  ----- \n",
            " 0   學年度     764 non-null    int64 \n",
            " 1   學校代碼    764 non-null    int64 \n",
            " 2   學校名稱    764 non-null    object\n",
            " 3   日間∕進修別  764 non-null    object\n",
            " 4   等級別     764 non-null    object\n",
            " 5   總計      764 non-null    int64 \n",
            " 6   男生計     764 non-null    int64 \n",
            " 7   女生計     764 non-null    int64 \n",
            " 8   一年級男    764 non-null    int64 \n",
            " 9   一年級女    764 non-null    int64 \n",
            " 10  二年級男    764 non-null    int64 \n",
            " 11  二年級女    764 non-null    int64 \n",
            " 12  三年級男    764 non-null    int64 \n",
            " 13  三年級女    764 non-null    int64 \n",
            " 14  四年級男    764 non-null    int64 \n",
            " 15  四年級女    764 non-null    int64 \n",
            " 16  五年級男    764 non-null    int64 \n",
            " 17  五年級女    764 non-null    int64 \n",
            " 18  六年級男    764 non-null    int64 \n",
            " 19  六年級女    764 non-null    int64 \n",
            " 20  七年級男    764 non-null    int64 \n",
            " 21  七年級女    764 non-null    int64 \n",
            " 22  延修生男    764 non-null    int64 \n",
            " 23  延修生女    764 non-null    int64 \n",
            " 24  縣市名稱    764 non-null    object\n",
            " 25  體系別     764 non-null    object\n",
            "dtypes: int64(21), object(5)\n",
            "memory usage: 155.3+ KB\n",
            "None\n",
            "         學年度         學校代碼            總計           男生計           女生計  \\\n",
            "count  764.0   764.000000    764.000000    764.000000    764.000000   \n",
            "mean   112.0   756.200262   1433.022251    708.655759    724.366492   \n",
            "std      0.0   504.152506   2633.932756   1385.170171   1348.848241   \n",
            "min    112.0     1.000000      1.000000      0.000000      0.000000   \n",
            "25%    112.0    48.000000    103.750000     43.750000     50.000000   \n",
            "50%    112.0  1029.000000    373.500000    180.000000    166.000000   \n",
            "75%    112.0  1060.000000   1387.500000    590.500000    718.500000   \n",
            "max    112.0  3002.000000  19466.000000  10885.000000  10716.000000   \n",
            "\n",
            "              一年級男         一年級女         二年級男         二年級女         三年級男  ...  \\\n",
            "count   764.000000   764.000000   764.000000   764.000000   764.000000  ...   \n",
            "mean    177.971204   173.545812   170.302356   166.284031   158.507853  ...   \n",
            "std     349.047086   321.080379   344.369500   315.779672   323.499085  ...   \n",
            "min       0.000000     0.000000     0.000000     0.000000     0.000000  ...   \n",
            "25%       5.000000     4.000000     5.000000     6.000000     6.000000  ...   \n",
            "50%      41.000000    37.000000    36.500000    35.000000    35.500000  ...   \n",
            "75%     161.250000   188.250000   157.000000   174.000000   127.500000  ...   \n",
            "max    2709.000000  2519.000000  2643.000000  2547.000000  2553.000000  ...   \n",
            "\n",
            "              四年級男         四年級女        五年級男        五年級女        六年級男  \\\n",
            "count   764.000000   764.000000  764.000000  764.000000  764.000000   \n",
            "mean    145.589005   161.738220   11.871728   20.469895    4.810209   \n",
            "std     308.939286   324.284355   32.233288   81.117153   19.818557   \n",
            "min       0.000000     0.000000    0.000000    0.000000    0.000000   \n",
            "25%       4.000000     4.000000    0.000000    0.000000    0.000000   \n",
            "50%      28.500000    30.000000    0.000000    0.000000    0.000000   \n",
            "75%     108.500000   141.500000    6.000000    6.000000    0.000000   \n",
            "max    2575.000000  2594.000000  309.000000  897.000000  179.000000   \n",
            "\n",
            "             六年級女        七年級男        七年級女         延修生男         延修生女  \n",
            "count  764.000000  764.000000  764.000000   764.000000   764.000000  \n",
            "mean     3.615183    2.955497    1.742147    36.647906    27.591623  \n",
            "std     13.204157   17.768959    8.937397    98.370926    74.731977  \n",
            "min      0.000000    0.000000    0.000000     0.000000     0.000000  \n",
            "25%      0.000000    0.000000    0.000000     0.000000     0.000000  \n",
            "50%      0.000000    0.000000    0.000000     0.000000     0.000000  \n",
            "75%      0.000000    0.000000    0.000000    21.000000    18.250000  \n",
            "max    125.000000  312.000000  132.000000  1448.000000  1107.000000  \n",
            "\n",
            "[8 rows x 21 columns]\n"
          ]
        }
      ]
    },
    {
      "cell_type": "markdown",
      "source": [
        "## Q1 國立臺灣師範大學有多少學生"
      ],
      "metadata": {
        "id": "OPDWXV4bgeJB"
      }
    },
    {
      "cell_type": "code",
      "source": [
        "ntnu_df = df[df['學校名稱'] == '國立臺灣師範大學']\n",
        "\n",
        "total_students = ntnu_df['總計'].sum()\n",
        "\n",
        "print(f\"國立臺灣師範大學的總學生數量為：{total_students}\")\n"
      ],
      "metadata": {
        "colab": {
          "base_uri": "https://localhost:8080/"
        },
        "id": "dYbwtpRRfz7v",
        "outputId": "d7557270-5671-414f-d656-e684167a7ac3"
      },
      "execution_count": 9,
      "outputs": [
        {
          "output_type": "stream",
          "name": "stdout",
          "text": [
            "國立臺灣師範大學的總學生數量為：16496\n"
          ]
        }
      ]
    },
    {
      "cell_type": "markdown",
      "source": [
        "## Q2 臺灣師範大學男女組成"
      ],
      "metadata": {
        "id": "bxGnNiZag3oV"
      }
    },
    {
      "cell_type": "code",
      "source": [
        "total_males = ntnu_df['男生計'].sum()\n",
        "\n",
        "total_females = ntnu_df['女生計'].sum()\n",
        "\n",
        "print(f\"國立臺灣師範大學的男性學生數量為：{total_males}\")\n",
        "\n",
        "print(f\"國立臺灣師範大學的女性學生數量為：{total_females}\")"
      ],
      "metadata": {
        "colab": {
          "base_uri": "https://localhost:8080/"
        },
        "id": "uhc8oxv4hO-o",
        "outputId": "5dfa739f-c067-41b8-e538-47ebf786c856"
      },
      "execution_count": 10,
      "outputs": [
        {
          "output_type": "stream",
          "name": "stdout",
          "text": [
            "國立臺灣師範大學的男性學生數量為：7034\n",
            "國立臺灣師範大學的男性學生數量為：9462\n"
          ]
        }
      ]
    },
    {
      "cell_type": "markdown",
      "source": [
        "## Q3 臺灣師範大學各年級組成"
      ],
      "metadata": {
        "id": "Gndc4HttiMho"
      }
    },
    {
      "cell_type": "code",
      "source": [
        "ntnu_phd_df = ntnu_df[ntnu_df['等級別'] == 'D 博士']\n",
        "print(f\"國立臺灣師範大學的博士生數量為：{ntnu_phd_df['總計'].sum()}\")\n",
        "ntnu_ms_df = ntnu_df[ntnu_df['等級別'] == 'M 碩士']\n",
        "print(f\"國立臺灣師範大學的碩士生數量為：{ntnu_ms_df['總計'].sum()}\")\n",
        "ntnu_bs_df = ntnu_df[ntnu_df['等級別'] == 'B 學士']\n",
        "print(f\"國立臺灣師範大學的學士生數量為：{ntnu_bs_df['總計'].sum()}\")\n"
      ],
      "metadata": {
        "colab": {
          "base_uri": "https://localhost:8080/"
        },
        "id": "f8xyT4z6iMEt",
        "outputId": "bbf4cdc7-9abe-4120-a221-1f0a85b92065"
      },
      "execution_count": 14,
      "outputs": [
        {
          "output_type": "stream",
          "name": "stdout",
          "text": [
            "國立臺灣師範大學的博士生數量為：1337\n",
            "國立臺灣師範大學的碩士生數量為：6656\n",
            "國立臺灣師範大學的學士生數量為：8503\n"
          ]
        }
      ]
    }
  ]
}