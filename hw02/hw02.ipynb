{
  "nbformat": 4,
  "nbformat_minor": 0,
  "metadata": {
    "colab": {
      "provenance": []
    },
    "kernelspec": {
      "name": "python3",
      "display_name": "Python 3"
    },
    "language_info": {
      "name": "python"
    }
  },
  "cells": [
    {
      "cell_type": "code",
      "execution_count": null,
      "metadata": {
        "colab": {
          "base_uri": "https://localhost:8080/"
        },
        "id": "fqKIidl8XRgL",
        "outputId": "43dce37e-19b1-4439-9b36-6881158a99b4"
      },
      "outputs": [
        {
          "output_type": "stream",
          "name": "stdout",
          "text": [
            "Requirement already satisfied: selenium in /usr/local/lib/python3.10/dist-packages (4.19.0)\n",
            "Requirement already satisfied: urllib3[socks]<3,>=1.26 in /usr/local/lib/python3.10/dist-packages (from selenium) (2.0.7)\n",
            "Requirement already satisfied: trio~=0.17 in /usr/local/lib/python3.10/dist-packages (from selenium) (0.25.0)\n",
            "Requirement already satisfied: trio-websocket~=0.9 in /usr/local/lib/python3.10/dist-packages (from selenium) (0.11.1)\n",
            "Requirement already satisfied: certifi>=2021.10.8 in /usr/local/lib/python3.10/dist-packages (from selenium) (2024.2.2)\n",
            "Requirement already satisfied: typing_extensions>=4.9.0 in /usr/local/lib/python3.10/dist-packages (from selenium) (4.11.0)\n",
            "Requirement already satisfied: attrs>=23.2.0 in /usr/local/lib/python3.10/dist-packages (from trio~=0.17->selenium) (23.2.0)\n",
            "Requirement already satisfied: sortedcontainers in /usr/local/lib/python3.10/dist-packages (from trio~=0.17->selenium) (2.4.0)\n",
            "Requirement already satisfied: idna in /usr/local/lib/python3.10/dist-packages (from trio~=0.17->selenium) (3.7)\n",
            "Requirement already satisfied: outcome in /usr/local/lib/python3.10/dist-packages (from trio~=0.17->selenium) (1.3.0.post0)\n",
            "Requirement already satisfied: sniffio>=1.3.0 in /usr/local/lib/python3.10/dist-packages (from trio~=0.17->selenium) (1.3.1)\n",
            "Requirement already satisfied: exceptiongroup in /usr/local/lib/python3.10/dist-packages (from trio~=0.17->selenium) (1.2.0)\n",
            "Requirement already satisfied: wsproto>=0.14 in /usr/local/lib/python3.10/dist-packages (from trio-websocket~=0.9->selenium) (1.2.0)\n",
            "Requirement already satisfied: pysocks!=1.5.7,<2.0,>=1.5.6 in /usr/local/lib/python3.10/dist-packages (from urllib3[socks]<3,>=1.26->selenium) (1.7.1)\n",
            "Requirement already satisfied: h11<1,>=0.9.0 in /usr/local/lib/python3.10/dist-packages (from wsproto>=0.14->trio-websocket~=0.9->selenium) (0.14.0)\n"
          ]
        }
      ],
      "source": [
        "!pip install selenium"
      ]
    },
    {
      "cell_type": "code",
      "source": [
        "from google.colab import drive\n",
        "drive.mount('/content/gdrive/', force_remount=True)\n",
        "\n",
        "import os\n",
        "os.chdir(\"/content/gdrive/My Drive/latia/\")\n",
        "os.listdir()"
      ],
      "metadata": {
        "colab": {
          "base_uri": "https://localhost:8080/"
        },
        "id": "hdnuuDqtdK9l",
        "outputId": "7937b12f-8c6b-4526-c10b-72440747dcf5"
      },
      "execution_count": null,
      "outputs": [
        {
          "output_type": "stream",
          "name": "stdout",
          "text": [
            "Mounted at /content/gdrive/\n"
          ]
        },
        {
          "output_type": "execute_result",
          "data": {
            "text/plain": [
              "['112_student.csv',\n",
              " '112_students_tf.csv',\n",
              " 'std_each_week_study_tf.csv',\n",
              " 'faraway111.csv',\n",
              " 'flag_book041524.csv']"
            ]
          },
          "metadata": {},
          "execution_count": 5
        }
      ]
    },
    {
      "cell_type": "code",
      "source": [
        "import requests as rq\n",
        "import pandas as pd\n",
        "from bs4 import BeautifulSoup as soup\n",
        "from selenium import webdriver\n",
        "from selenium.webdriver.chrome.options import Options\n",
        "from selenium.webdriver.common.by import By\n",
        "from selenium.webdriver.common.keys import Keys\n",
        "import time\n",
        "import csv\n",
        "\n",
        "# Initialize a Selenium web driver\n",
        "chrome_options = webdriver.ChromeOptions()\n",
        "\n",
        "# 使用add_argument()方法添加--headless參數，使Chrome以headless模式運行，即在後台運行，不顯示GUI界面。\n",
        "chrome_options.add_argument('--headless')\n",
        "\n",
        "# 使用add_argument()方法添加--no-sandbox參數，這是一個必要的參數，用於解決在某些環境下的運行問題。\n",
        "chrome_options.add_argument('--no-sandbox')\n",
        "\n",
        "# 將 headless 屬性設置為 True。\n",
        "chrome_options.headless = True\n",
        "\n",
        "#driver = webdriver.Chrome('chromedriver', options=chrome_options)\n",
        "driver = webdriver.Chrome(options=chrome_options)\n",
        "\n",
        "base_url = 'https://tain.tw/stats?type=2&points_page=1'\n",
        "driver.get(base_url)\n",
        "\n",
        "# Wait for the page to load\n",
        "time.sleep(3)\n",
        "\n",
        "# Create an empty list to store all the data\n",
        "all_data = []\n",
        "\n",
        "# Define the desired column names\n",
        "column_names = ['Pos', '球員', '排名', '勝率', '直板勝率', '橫板勝率', '右手勝率', '左手勝率', '男子勝率', '女子勝率', '穩定率', '爆發率', '平面勝率', '短顆勝率', '中顆勝率', '長顆勝率', 'NT勝率']\n",
        "\n",
        "# Add the column names as the first row\n",
        "all_data.append(column_names)\n",
        "\n",
        "for i in range(0, 144):\n",
        "    # Find the table using XPath\n",
        "    table = driver.find_element(By.XPATH, \"//table[@class='table table-sm table-hover text-nowrap fs-caption']\")\n",
        "\n",
        "    # Get the HTML content of the table\n",
        "    table_html = table.get_attribute('outerHTML')\n",
        "\n",
        "    # Parse the HTML content using BeautifulSoup\n",
        "    soup_table = soup(table_html, 'html.parser')\n",
        "\n",
        "    # Find all table rows\n",
        "    rows = soup_table.find_all('tr')\n",
        "\n",
        "    # Create empty lists to store the data for the current page\n",
        "    data = []\n",
        "\n",
        "    # Iterate through the rows and extract data\n",
        "    for row in rows[1:]:  # Skip the header row\n",
        "        columns = row.find_all(['th', 'td'])\n",
        "        row_data = [column.get_text(strip=True) for column in columns]\n",
        "        data.append(row_data)\n",
        "\n",
        "    # Append the data for the current page to the list of all data\n",
        "    all_data.extend(data)\n",
        "\n",
        "    driver.maximize_window()\n",
        "    # Find the \"Next\" link using the specified criteria\n",
        "    #\n",
        "    # Find the URL of the \"Next\" page, if available\n",
        "    next_page_element = driver.find_element(By.XPATH, \"//li[@class='page-item' and not(@aria-disabled='true')]/a[@class='page-link' and contains(@aria-label, 'Next »')]\")\n",
        "    next_page_url = next_page_element.get_attribute('href')\n",
        "\n",
        "    if next_page_url:\n",
        "        # Navigate to the next page\n",
        "        driver.get(next_page_url)\n",
        "    else:\n",
        "        break  # No more pages to scrape\n",
        "\n",
        "# Create a DataFrame from all the extracted data\n",
        "df = pd.DataFrame(all_data[1:], columns=all_data[0])\n",
        "\n",
        "# Close the Selenium web driver\n",
        "driver.quit()\n",
        "\n",
        "with open('result.csv', 'w', newline='', encoding='utf-8') as csvfile:\n",
        "    writer = csv.writer(csvfile)\n",
        "    writer.writerows(all_data)\n",
        "\n",
        "# Display the extracted data in a DataFrame\n",
        "print(df)"
      ],
      "metadata": {
        "colab": {
          "base_uri": "https://localhost:8080/"
        },
        "id": "TAfYjnYxdJqx",
        "outputId": "e9c8798d-8366-4a7b-9e8a-43fbb7290b43"
      },
      "execution_count": null,
      "outputs": [
        {
          "output_type": "stream",
          "name": "stdout",
          "text": [
            "       Pos   球員    排名      勝率    直板勝率    橫板勝率    右手勝率    左手勝率    男子勝率    女子勝率  \\\n",
            "0        1  葉柏旻     1   66.67  100.00   62.50   75.00    0.00   66.67       -   \n",
            "1        2  黃建都     2  100.00       -  100.00  100.00  100.00  100.00  100.00   \n",
            "2        3  林晉霆     3  100.00       -  100.00  100.00       -  100.00  100.00   \n",
            "3        4  林鴻昇     4  100.00       -  100.00  100.00  100.00  100.00       -   \n",
            "4        5  張峻林     5   83.52   88.24   82.61   85.53   68.42   83.54   85.00   \n",
            "...    ...  ...   ...     ...     ...     ...     ...     ...     ...     ...   \n",
            "2875  2876  于合翔  2903   50.00       -   50.00   40.00  100.00   40.00  100.00   \n",
            "2876  2877  葉治宣  2904   66.67       -   66.67   66.67       -   66.67       -   \n",
            "2877  2878  黃胤齊  2905   61.29    0.00   64.29   62.07   50.00   61.54   60.00   \n",
            "2878  2879  陳乙葳  2906   23.81   50.00   22.50   25.00    0.00   14.81   40.00   \n",
            "2879  2880  孫富群  2907   30.48    0.00   31.07   29.29   50.00   32.29   11.11   \n",
            "\n",
            "         穩定率     爆發率    平面勝率    短顆勝率    中顆勝率    長顆勝率    NT勝率  \n",
            "0      66.67       -   50.00    0.00       -       -       -  \n",
            "1          -       -  100.00  100.00       -  100.00       -  \n",
            "2     100.00       -  100.00       -       -       -  100.00  \n",
            "3     100.00       -  100.00       -       -  100.00  100.00  \n",
            "4      89.86   61.54   75.00  100.00  100.00       -       -  \n",
            "...      ...     ...     ...     ...     ...     ...     ...  \n",
            "2875   50.00   33.33   50.00   50.00       -       -       -  \n",
            "2876   60.00  100.00   50.00       -       -  100.00       -  \n",
            "2877   70.00   53.33   52.17       -       -   83.33       -  \n",
            "2878   42.11   14.81   47.83    0.00    0.00    0.00    0.00  \n",
            "2879   50.00   27.66   48.72    0.00    0.00    0.00   80.00  \n",
            "\n",
            "[2880 rows x 17 columns]\n"
          ]
        }
      ]
    },
    {
      "cell_type": "code",
      "source": [
        "os.listdir()"
      ],
      "metadata": {
        "colab": {
          "base_uri": "https://localhost:8080/"
        },
        "id": "w_RlBtjudXUT",
        "outputId": "746e3f6b-573a-4ef8-cd88-57d9d4105eea"
      },
      "execution_count": null,
      "outputs": [
        {
          "output_type": "execute_result",
          "data": {
            "text/plain": [
              "['112_student.csv',\n",
              " '112_students_tf.csv',\n",
              " 'std_each_week_study_tf.csv',\n",
              " 'faraway111.csv',\n",
              " 'flag_book041524.csv',\n",
              " 'result.csv']"
            ]
          },
          "metadata": {},
          "execution_count": 8
        }
      ]
    }
  ]
}